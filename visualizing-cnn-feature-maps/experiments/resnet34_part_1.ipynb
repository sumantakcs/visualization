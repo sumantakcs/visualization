{
  "nbformat": 4,
  "nbformat_minor": 0,
  "metadata": {
    "colab": {
      "name": "feat_viz_resnet34.ipynb",
      "version": "0.3.2",
      "provenance": [],
      "collapsed_sections": []
    },
    "kernelspec": {
      "name": "python3",
      "display_name": "Python 3"
    },
    "accelerator": "GPU"
  },
  "cells": [
    {
      "metadata": {
        "id": "I9VDrPCrR1__",
        "colab_type": "text"
      },
      "cell_type": "markdown",
      "source": [
        "# Visualizing inputs that maximally activate feature maps of a convnet\n",
        "\n",
        "## Network used: ResNet-34"
      ]
    },
    {
      "metadata": {
        "id": "39Ch5JJ-lJSI",
        "colab_type": "code",
        "colab": {}
      },
      "cell_type": "code",
      "source": [
        "%matplotlib inline\n",
        "%reload_ext autoreload\n",
        "%autoreload 2"
      ],
      "execution_count": 0,
      "outputs": []
    },
    {
      "metadata": {
        "id": "M8ylYU0BO9QP",
        "colab_type": "code",
        "colab": {}
      },
      "cell_type": "code",
      "source": [
        "!pip install -q fastai==0.7.0 torchtext==0.2.3"
      ],
      "execution_count": 0,
      "outputs": []
    },
    {
      "metadata": {
        "id": "Q1w2HnvvlP2z",
        "colab_type": "code",
        "colab": {}
      },
      "cell_type": "code",
      "source": [
        "from fastai.conv_learner import *\n",
        "from cv2 import resize\n",
        "import matplotlib.gridspec as gridspec\n",
        "from math import ceil"
      ],
      "execution_count": 0,
      "outputs": []
    },
    {
      "metadata": {
        "id": "fhjHTcM4Q9Ey",
        "colab_type": "code",
        "colab": {}
      },
      "cell_type": "code",
      "source": [
        "from IPython.display import HTML"
      ],
      "execution_count": 0,
      "outputs": []
    },
    {
      "metadata": {
        "id": "7bBwWLBhha2Z",
        "colab_type": "code",
        "colab": {}
      },
      "cell_type": "code",
      "source": [
        "from pdb import set_trace"
      ],
      "execution_count": 0,
      "outputs": []
    },
    {
      "metadata": {
        "id": "5YpDdNpkVTCS",
        "colab_type": "code",
        "colab": {}
      },
      "cell_type": "code",
      "source": [
        "from scipy import ndimage"
      ],
      "execution_count": 0,
      "outputs": []
    },
    {
      "metadata": {
        "colab_type": "code",
        "id": "UQ2d_EVYBODD",
        "colab": {}
      },
      "cell_type": "code",
      "source": [
        "class SaveFeatures():\n",
        "    def __init__(self, module):\n",
        "        self.hook = module.register_forward_hook(self.hook_fn)\n",
        "    def hook_fn(self, module, input, output):\n",
        "        self.features = output\n",
        "    def close(self):\n",
        "        self.hook.remove()"
      ],
      "execution_count": 0,
      "outputs": []
    },
    {
      "metadata": {
        "id": "OFxPmIboP5c_",
        "colab_type": "code",
        "colab": {}
      },
      "cell_type": "code",
      "source": [
        "class FilterVisualizer():\n",
        "    def __init__(self):\n",
        "        self.model = nn.Sequential(*list(resnet34(True).children())[:-2]).cuda().eval()\n",
        "        set_trainable(self.model, False)\n",
        "\n",
        "    def visualize(self, sz, layer, filter, upscaling_steps=12, upscaling_factor=1.2, lr=0.1, opt_steps=20, blur=None, save=False, print_losses=False):\n",
        "\n",
        "        img = (np.random.random((sz, sz, 3)) * 20 + 128.)/255.\n",
        "#         img = np.random.uniform(0, 1, size=(sz, sz, 3)).astype(np.float32)\n",
        "#         median_filter_size = 4 if sz < 100 else 8\n",
        "#         img = scipy.ndimage.filters.median_filter(img, [median_filter_size,median_filter_size,1])\n",
        "\n",
        "        activations = SaveFeatures(layer)  # register hook\n",
        "\n",
        "        for i in range(upscaling_steps):  # scale the image up upscaling_steps times\n",
        "            train_tfms, val_tfms = tfms_from_model(resnet34, sz)\n",
        "            img_var = V(val_tfms(img)[None], requires_grad=True)  # convert image to Variable that requires grad\n",
        "            optimizer = torch.optim.Adam([img_var], lr=lr, weight_decay=1e-6)\n",
        "            if i > upscaling_steps/2:\n",
        "                opt_steps_ = int(opt_steps*1.3)\n",
        "            else:\n",
        "                opt_steps_ = opt_steps\n",
        "            for n in range(opt_steps_):  # optimize pixel values for opt_steps times\n",
        "                optimizer.zero_grad()\n",
        "                self.model(img_var)\n",
        "                loss = -1*activations.features[0, filter].mean()\n",
        "                if print_losses:\n",
        "                    if i%3==0 and n%5==0:\n",
        "                        print(f'{i} - {n} - {float(loss)}')\n",
        "                loss.backward()\n",
        "                optimizer.step()\n",
        "            img = val_tfms.denorm(np.rollaxis(to_np(img_var.data),1,4))[0]\n",
        "            self.output = img\n",
        "            sz = int(upscaling_factor * sz)  # calculate new image size\n",
        "            img = cv2.resize(img, (sz, sz), interpolation = cv2.INTER_CUBIC)  # scale image up\n",
        "            if blur is not None: img = cv2.blur(img,(blur,blur))  # blur image to reduce high frequency patterns\n",
        "        activations.close()\n",
        "        return np.clip(self.output, 0, 1)\n",
        "    \n",
        "    def get_transformed_img(self,img,sz):\n",
        "        train_tfms, val_tfms = tfms_from_model(resnet34, sz)\n",
        "        return val_tfms.denorm(np.rollaxis(to_np(val_tfms(img)[None]),1,4))[0]\n",
        "    \n",
        "    def most_activated(self, image, layer, limit_top=None):\n",
        "\n",
        "        train_tfms, val_tfms = tfms_from_model(resnet34, 224)\n",
        "        transformed = val_tfms(image)\n",
        "\n",
        "        activations = SaveFeatures(layer)  # register hook\n",
        "        self.model(V(transformed)[None]);\n",
        "        \n",
        "        mean_act = [activations.features[0,i].mean().data.cpu().numpy()[0] for i in range(activations.features.shape[1])]\n",
        "        activations.close()\n",
        "        return mean_act"
      ],
      "execution_count": 0,
      "outputs": []
    },
    {
      "metadata": {
        "id": "KGm5tqr2VinJ",
        "colab_type": "code",
        "outputId": "f6f1f85f-2644-4d4d-d437-0f11d3751d55",
        "colab": {
          "base_uri": "https://localhost:8080/",
          "height": 50
        }
      },
      "cell_type": "code",
      "source": [
        "FV = FilterVisualizer()"
      ],
      "execution_count": 5,
      "outputs": [
        {
          "output_type": "stream",
          "text": [
            "Downloading: \"https://download.pytorch.org/models/resnet34-333f7ec4.pth\" to /root/.torch/models/resnet34-333f7ec4.pth\n",
            "100%|██████████| 87306240/87306240 [00:03<00:00, 23733638.02it/s]\n"
          ],
          "name": "stderr"
        }
      ]
    },
    {
      "metadata": {
        "id": "DBT9Yd4bYIJV",
        "colab_type": "code",
        "outputId": "9a26f061-49b7-4210-954a-e75232fd5afe",
        "colab": {
          "base_uri": "https://localhost:8080/",
          "height": 2335
        }
      },
      "cell_type": "code",
      "source": [
        "FV.model"
      ],
      "execution_count": 0,
      "outputs": [
        {
          "output_type": "execute_result",
          "data": {
            "text/plain": [
              "Sequential(\n",
              "  (0): Conv2d(3, 64, kernel_size=(7, 7), stride=(2, 2), padding=(3, 3), bias=False)\n",
              "  (1): BatchNorm2d(64, eps=1e-05, momentum=0.1, affine=True)\n",
              "  (2): ReLU(inplace)\n",
              "  (3): MaxPool2d(kernel_size=(3, 3), stride=(2, 2), padding=(1, 1), dilation=(1, 1), ceil_mode=False)\n",
              "  (4): Sequential(\n",
              "    (0): BasicBlock(\n",
              "      (conv1): Conv2d(64, 64, kernel_size=(3, 3), stride=(1, 1), padding=(1, 1), bias=False)\n",
              "      (bn1): BatchNorm2d(64, eps=1e-05, momentum=0.1, affine=True)\n",
              "      (relu): ReLU(inplace)\n",
              "      (conv2): Conv2d(64, 64, kernel_size=(3, 3), stride=(1, 1), padding=(1, 1), bias=False)\n",
              "      (bn2): BatchNorm2d(64, eps=1e-05, momentum=0.1, affine=True)\n",
              "    )\n",
              "    (1): BasicBlock(\n",
              "      (conv1): Conv2d(64, 64, kernel_size=(3, 3), stride=(1, 1), padding=(1, 1), bias=False)\n",
              "      (bn1): BatchNorm2d(64, eps=1e-05, momentum=0.1, affine=True)\n",
              "      (relu): ReLU(inplace)\n",
              "      (conv2): Conv2d(64, 64, kernel_size=(3, 3), stride=(1, 1), padding=(1, 1), bias=False)\n",
              "      (bn2): BatchNorm2d(64, eps=1e-05, momentum=0.1, affine=True)\n",
              "    )\n",
              "    (2): BasicBlock(\n",
              "      (conv1): Conv2d(64, 64, kernel_size=(3, 3), stride=(1, 1), padding=(1, 1), bias=False)\n",
              "      (bn1): BatchNorm2d(64, eps=1e-05, momentum=0.1, affine=True)\n",
              "      (relu): ReLU(inplace)\n",
              "      (conv2): Conv2d(64, 64, kernel_size=(3, 3), stride=(1, 1), padding=(1, 1), bias=False)\n",
              "      (bn2): BatchNorm2d(64, eps=1e-05, momentum=0.1, affine=True)\n",
              "    )\n",
              "  )\n",
              "  (5): Sequential(\n",
              "    (0): BasicBlock(\n",
              "      (conv1): Conv2d(64, 128, kernel_size=(3, 3), stride=(2, 2), padding=(1, 1), bias=False)\n",
              "      (bn1): BatchNorm2d(128, eps=1e-05, momentum=0.1, affine=True)\n",
              "      (relu): ReLU(inplace)\n",
              "      (conv2): Conv2d(128, 128, kernel_size=(3, 3), stride=(1, 1), padding=(1, 1), bias=False)\n",
              "      (bn2): BatchNorm2d(128, eps=1e-05, momentum=0.1, affine=True)\n",
              "      (downsample): Sequential(\n",
              "        (0): Conv2d(64, 128, kernel_size=(1, 1), stride=(2, 2), bias=False)\n",
              "        (1): BatchNorm2d(128, eps=1e-05, momentum=0.1, affine=True)\n",
              "      )\n",
              "    )\n",
              "    (1): BasicBlock(\n",
              "      (conv1): Conv2d(128, 128, kernel_size=(3, 3), stride=(1, 1), padding=(1, 1), bias=False)\n",
              "      (bn1): BatchNorm2d(128, eps=1e-05, momentum=0.1, affine=True)\n",
              "      (relu): ReLU(inplace)\n",
              "      (conv2): Conv2d(128, 128, kernel_size=(3, 3), stride=(1, 1), padding=(1, 1), bias=False)\n",
              "      (bn2): BatchNorm2d(128, eps=1e-05, momentum=0.1, affine=True)\n",
              "    )\n",
              "    (2): BasicBlock(\n",
              "      (conv1): Conv2d(128, 128, kernel_size=(3, 3), stride=(1, 1), padding=(1, 1), bias=False)\n",
              "      (bn1): BatchNorm2d(128, eps=1e-05, momentum=0.1, affine=True)\n",
              "      (relu): ReLU(inplace)\n",
              "      (conv2): Conv2d(128, 128, kernel_size=(3, 3), stride=(1, 1), padding=(1, 1), bias=False)\n",
              "      (bn2): BatchNorm2d(128, eps=1e-05, momentum=0.1, affine=True)\n",
              "    )\n",
              "    (3): BasicBlock(\n",
              "      (conv1): Conv2d(128, 128, kernel_size=(3, 3), stride=(1, 1), padding=(1, 1), bias=False)\n",
              "      (bn1): BatchNorm2d(128, eps=1e-05, momentum=0.1, affine=True)\n",
              "      (relu): ReLU(inplace)\n",
              "      (conv2): Conv2d(128, 128, kernel_size=(3, 3), stride=(1, 1), padding=(1, 1), bias=False)\n",
              "      (bn2): BatchNorm2d(128, eps=1e-05, momentum=0.1, affine=True)\n",
              "    )\n",
              "  )\n",
              "  (6): Sequential(\n",
              "    (0): BasicBlock(\n",
              "      (conv1): Conv2d(128, 256, kernel_size=(3, 3), stride=(2, 2), padding=(1, 1), bias=False)\n",
              "      (bn1): BatchNorm2d(256, eps=1e-05, momentum=0.1, affine=True)\n",
              "      (relu): ReLU(inplace)\n",
              "      (conv2): Conv2d(256, 256, kernel_size=(3, 3), stride=(1, 1), padding=(1, 1), bias=False)\n",
              "      (bn2): BatchNorm2d(256, eps=1e-05, momentum=0.1, affine=True)\n",
              "      (downsample): Sequential(\n",
              "        (0): Conv2d(128, 256, kernel_size=(1, 1), stride=(2, 2), bias=False)\n",
              "        (1): BatchNorm2d(256, eps=1e-05, momentum=0.1, affine=True)\n",
              "      )\n",
              "    )\n",
              "    (1): BasicBlock(\n",
              "      (conv1): Conv2d(256, 256, kernel_size=(3, 3), stride=(1, 1), padding=(1, 1), bias=False)\n",
              "      (bn1): BatchNorm2d(256, eps=1e-05, momentum=0.1, affine=True)\n",
              "      (relu): ReLU(inplace)\n",
              "      (conv2): Conv2d(256, 256, kernel_size=(3, 3), stride=(1, 1), padding=(1, 1), bias=False)\n",
              "      (bn2): BatchNorm2d(256, eps=1e-05, momentum=0.1, affine=True)\n",
              "    )\n",
              "    (2): BasicBlock(\n",
              "      (conv1): Conv2d(256, 256, kernel_size=(3, 3), stride=(1, 1), padding=(1, 1), bias=False)\n",
              "      (bn1): BatchNorm2d(256, eps=1e-05, momentum=0.1, affine=True)\n",
              "      (relu): ReLU(inplace)\n",
              "      (conv2): Conv2d(256, 256, kernel_size=(3, 3), stride=(1, 1), padding=(1, 1), bias=False)\n",
              "      (bn2): BatchNorm2d(256, eps=1e-05, momentum=0.1, affine=True)\n",
              "    )\n",
              "    (3): BasicBlock(\n",
              "      (conv1): Conv2d(256, 256, kernel_size=(3, 3), stride=(1, 1), padding=(1, 1), bias=False)\n",
              "      (bn1): BatchNorm2d(256, eps=1e-05, momentum=0.1, affine=True)\n",
              "      (relu): ReLU(inplace)\n",
              "      (conv2): Conv2d(256, 256, kernel_size=(3, 3), stride=(1, 1), padding=(1, 1), bias=False)\n",
              "      (bn2): BatchNorm2d(256, eps=1e-05, momentum=0.1, affine=True)\n",
              "    )\n",
              "    (4): BasicBlock(\n",
              "      (conv1): Conv2d(256, 256, kernel_size=(3, 3), stride=(1, 1), padding=(1, 1), bias=False)\n",
              "      (bn1): BatchNorm2d(256, eps=1e-05, momentum=0.1, affine=True)\n",
              "      (relu): ReLU(inplace)\n",
              "      (conv2): Conv2d(256, 256, kernel_size=(3, 3), stride=(1, 1), padding=(1, 1), bias=False)\n",
              "      (bn2): BatchNorm2d(256, eps=1e-05, momentum=0.1, affine=True)\n",
              "    )\n",
              "    (5): BasicBlock(\n",
              "      (conv1): Conv2d(256, 256, kernel_size=(3, 3), stride=(1, 1), padding=(1, 1), bias=False)\n",
              "      (bn1): BatchNorm2d(256, eps=1e-05, momentum=0.1, affine=True)\n",
              "      (relu): ReLU(inplace)\n",
              "      (conv2): Conv2d(256, 256, kernel_size=(3, 3), stride=(1, 1), padding=(1, 1), bias=False)\n",
              "      (bn2): BatchNorm2d(256, eps=1e-05, momentum=0.1, affine=True)\n",
              "    )\n",
              "  )\n",
              "  (7): Sequential(\n",
              "    (0): BasicBlock(\n",
              "      (conv1): Conv2d(256, 512, kernel_size=(3, 3), stride=(2, 2), padding=(1, 1), bias=False)\n",
              "      (bn1): BatchNorm2d(512, eps=1e-05, momentum=0.1, affine=True)\n",
              "      (relu): ReLU(inplace)\n",
              "      (conv2): Conv2d(512, 512, kernel_size=(3, 3), stride=(1, 1), padding=(1, 1), bias=False)\n",
              "      (bn2): BatchNorm2d(512, eps=1e-05, momentum=0.1, affine=True)\n",
              "      (downsample): Sequential(\n",
              "        (0): Conv2d(256, 512, kernel_size=(1, 1), stride=(2, 2), bias=False)\n",
              "        (1): BatchNorm2d(512, eps=1e-05, momentum=0.1, affine=True)\n",
              "      )\n",
              "    )\n",
              "    (1): BasicBlock(\n",
              "      (conv1): Conv2d(512, 512, kernel_size=(3, 3), stride=(1, 1), padding=(1, 1), bias=False)\n",
              "      (bn1): BatchNorm2d(512, eps=1e-05, momentum=0.1, affine=True)\n",
              "      (relu): ReLU(inplace)\n",
              "      (conv2): Conv2d(512, 512, kernel_size=(3, 3), stride=(1, 1), padding=(1, 1), bias=False)\n",
              "      (bn2): BatchNorm2d(512, eps=1e-05, momentum=0.1, affine=True)\n",
              "    )\n",
              "    (2): BasicBlock(\n",
              "      (conv1): Conv2d(512, 512, kernel_size=(3, 3), stride=(1, 1), padding=(1, 1), bias=False)\n",
              "      (bn1): BatchNorm2d(512, eps=1e-05, momentum=0.1, affine=True)\n",
              "      (relu): ReLU(inplace)\n",
              "      (conv2): Conv2d(512, 512, kernel_size=(3, 3), stride=(1, 1), padding=(1, 1), bias=False)\n",
              "      (bn2): BatchNorm2d(512, eps=1e-05, momentum=0.1, affine=True)\n",
              "    )\n",
              "  )\n",
              ")"
            ]
          },
          "metadata": {
            "tags": []
          },
          "execution_count": 46
        }
      ]
    },
    {
      "metadata": {
        "id": "-FFFsEmcP6F3",
        "colab_type": "code",
        "colab": {}
      },
      "cell_type": "code",
      "source": [
        "import requests\n",
        "import base64\n",
        "import pprint"
      ],
      "execution_count": 0,
      "outputs": []
    },
    {
      "metadata": {
        "id": "gr9aNVwQP7o_",
        "colab_type": "code",
        "colab": {}
      },
      "cell_type": "code",
      "source": [
        "with open('img_at.txt') as f:\n",
        "    ACCESS_TOKEN = f.read().strip()"
      ],
      "execution_count": 0,
      "outputs": []
    },
    {
      "metadata": {
        "id": "ssOE-MdeP0PZ",
        "colab_type": "code",
        "colab": {}
      },
      "cell_type": "code",
      "source": [
        "def upload_to_imgur(file_name,post_title,album_hash):\n",
        "    url = 'https://api.imgur.com/3/image'\n",
        "    fh = open(file_name, 'rb');\n",
        "    payload = {'image': base64.b64encode(fh.read()),\n",
        "              'album':album_hash,\n",
        "              'type':'base64',\n",
        "              'title':post_title,\n",
        "              'looping':False\n",
        "              }\n",
        "    files = {}\n",
        "    headers = {\n",
        "      'Authorization': f'Bearer {ACCESS_TOKEN}'\n",
        "    }\n",
        "    response = requests.request('POST', url, headers = headers, data = payload, files = files, allow_redirects=False)\n",
        "#     print(response.json()['data']['link'])\n",
        "    return response.json()['data']['link']"
      ],
      "execution_count": 0,
      "outputs": []
    },
    {
      "metadata": {
        "id": "IuIGDfKgQS1W",
        "colab_type": "code",
        "colab": {}
      },
      "cell_type": "code",
      "source": [
        "def plot_reconstructions_single_layer(imgs,layer_name,filters,\n",
        "                                      n_cols=3,\n",
        "                                      cell_size=4,save_fig=False,\n",
        "                                      album_hash=None):\n",
        "    n_rows = ceil((len(imgs))/n_cols)\n",
        "\n",
        "    fig,axes = plt.subplots(n_rows,n_cols, figsize=(cell_size*n_cols,cell_size*n_rows))\n",
        "          \n",
        "    for i,ax in enumerate(axes.flat):\n",
        "        ax.grid(False)\n",
        "        ax.get_xaxis().set_visible(False)\n",
        "        ax.get_yaxis().set_visible(False)\n",
        "\n",
        "        if i>=len(filters):\n",
        "            pass\n",
        "\n",
        "        ax.set_title(f'fmap {filters[i]}')\n",
        "\n",
        "        ax.imshow(imgs[i])\n",
        "    fig.suptitle(f'ResNet34 {layer_name}', fontsize=\"x-large\",y=1.0)\n",
        "    plt.tight_layout()\n",
        "    plt.subplots_adjust(top=0.88)\n",
        "    save_name = layer_name.lower().replace(' ','_')\n",
        "    if save_fig:\n",
        "        plt.savefig(f'resnet34_{save_name}_fmaps_{\"_\".join([str(f) for f in filters])}.png')\n",
        "        link = upload_to_imgur(f'resnet34_{save_name}_fmaps_{\"_\".join([str(f) for f in filters])}.png',\n",
        "                        f'resnet34_{save_name}_fmaps_{\"_\".join([str(f) for f in filters])}',album_hash)\n",
        "        plt.close()\n",
        "        return link\n",
        "    else:\n",
        "        plt.show()\n",
        "        return None"
      ],
      "execution_count": 0,
      "outputs": []
    },
    {
      "metadata": {
        "id": "Zf0UXoS6QoJZ",
        "colab_type": "code",
        "colab": {}
      },
      "cell_type": "code",
      "source": [
        "def reconstructions_single_layer(layer,layer_name,filters,\n",
        "                    init_size=56, upscaling_steps=12, \n",
        "                    upscaling_factor=1.2, \n",
        "                    opt_steps=20, blur=5,\n",
        "                    lr=1e-1,print_losses=False,\n",
        "                    n_cols=3, cell_size=4,\n",
        "                    save_fig=False,album_hash=None):\n",
        "    \n",
        "    imgs = []\n",
        "    for i in range(len(filters)):\n",
        "        imgs.append(FV.visualize(init_size,layer, filters[i], \n",
        "                                 upscaling_steps=upscaling_steps, \n",
        "                                 upscaling_factor=upscaling_factor, \n",
        "                                 opt_steps=opt_steps, blur=blur,\n",
        "                                 lr=lr,print_losses=print_losses))\n",
        "        \n",
        "    return plot_reconstructions_single_layer(imgs,layer_name,filters,\n",
        "                                      n_cols=n_cols,cell_size=cell_size,\n",
        "                                      save_fig=save_fig,album_hash=album_hash)"
      ],
      "execution_count": 0,
      "outputs": []
    },
    {
      "metadata": {
        "id": "dIdqrmpKvT2l",
        "colab_type": "code",
        "outputId": "e9a7cb3f-fb1e-48aa-8790-e610613fa06d",
        "colab": {
          "base_uri": "https://localhost:8080/",
          "height": 597
        }
      },
      "cell_type": "code",
      "source": [
        "url = reconstructions_single_layer(children(FV.model)[0],'Initial Conv',\n",
        "                             list(range(6,12)),n_cols=3,save_fig=True,\n",
        "                             album_hash='OhQ94rP')\n",
        "display(HTML(f\"<img src={url} />\"))"
      ],
      "execution_count": 18,
      "outputs": [
        {
          "output_type": "display_data",
          "data": {
            "text/html": [
              "<img src=https://i.imgur.com/VkjAU4d.png />"
            ],
            "text/plain": [
              "<IPython.core.display.HTML object>"
            ]
          },
          "metadata": {
            "tags": []
          }
        }
      ]
    },
    {
      "metadata": {
        "id": "bGJnuWR8RT2Q",
        "colab_type": "code",
        "colab": {
          "base_uri": "https://localhost:8080/",
          "height": 597
        },
        "outputId": "17b5e81b-b38c-494b-c169-b76140d4e302"
      },
      "cell_type": "code",
      "source": [
        "url = reconstructions_single_layer(children(FV.model)[4][0].conv1,'Layer 1 Block 1 Conv1',\n",
        "                             list(range(6,12)),n_cols=3,\n",
        "                             save_fig=True,album_hash='OhQ94rP')\n",
        "display(HTML(f\"<img src={url} />\"))"
      ],
      "execution_count": 19,
      "outputs": [
        {
          "output_type": "display_data",
          "data": {
            "text/html": [
              "<img src=https://i.imgur.com/u5VhUTy.png />"
            ],
            "text/plain": [
              "<IPython.core.display.HTML object>"
            ]
          },
          "metadata": {
            "tags": []
          }
        }
      ]
    },
    {
      "metadata": {
        "id": "Cpsq5258Rc7c",
        "colab_type": "code",
        "colab": {
          "base_uri": "https://localhost:8080/",
          "height": 597
        },
        "outputId": "ad40f123-c14a-4018-f5dd-46a907820364"
      },
      "cell_type": "code",
      "source": [
        "url = reconstructions_single_layer(children(FV.model)[4][0].conv2,\n",
        "                                   'Layer 1 Block 1 Conv2',list(range(6,12)),\n",
        "                                   n_cols=3,save_fig=True,album_hash='OhQ94rP')\n",
        "display(HTML(f\"<img src={url} />\"))"
      ],
      "execution_count": 20,
      "outputs": [
        {
          "output_type": "display_data",
          "data": {
            "text/html": [
              "<img src=https://i.imgur.com/bS6BdX1.png />"
            ],
            "text/plain": [
              "<IPython.core.display.HTML object>"
            ]
          },
          "metadata": {
            "tags": []
          }
        }
      ]
    },
    {
      "metadata": {
        "id": "NjlDhBM2RdQE",
        "colab_type": "code",
        "colab": {
          "base_uri": "https://localhost:8080/",
          "height": 597
        },
        "outputId": "746bac3f-b807-4fb4-aa3e-132651654b92"
      },
      "cell_type": "code",
      "source": [
        "url = reconstructions_single_layer(children(FV.model)[4][1].conv1,\n",
        "                                   'Layer 1 Block 2 Conv1',\n",
        "                                   list(range(6,12)),n_cols=3,\n",
        "                                   save_fig=True,album_hash='OhQ94rP')\n",
        "display(HTML(f\"<img src={url} />\"))"
      ],
      "execution_count": 21,
      "outputs": [
        {
          "output_type": "display_data",
          "data": {
            "text/html": [
              "<img src=https://i.imgur.com/w26z55b.png />"
            ],
            "text/plain": [
              "<IPython.core.display.HTML object>"
            ]
          },
          "metadata": {
            "tags": []
          }
        }
      ]
    },
    {
      "metadata": {
        "id": "2fSvUAsCRg40",
        "colab_type": "code",
        "colab": {
          "base_uri": "https://localhost:8080/",
          "height": 597
        },
        "outputId": "e92fddde-616f-49e3-b81b-8a1dc86bce43"
      },
      "cell_type": "code",
      "source": [
        "url = reconstructions_single_layer(children(FV.model)[5][0].conv2,\n",
        "                                   'Layer 2 Block 1 Conv2',list(range(6,12)),\n",
        "                                   n_cols=3,save_fig=True,album_hash='OhQ94rP')\n",
        "display(HTML(f\"<img src={url} />\"))"
      ],
      "execution_count": 23,
      "outputs": [
        {
          "output_type": "display_data",
          "data": {
            "text/html": [
              "<img src=https://i.imgur.com/YyJ0SvB.png />"
            ],
            "text/plain": [
              "<IPython.core.display.HTML object>"
            ]
          },
          "metadata": {
            "tags": []
          }
        }
      ]
    },
    {
      "metadata": {
        "id": "Ew1G9SHIRg-y",
        "colab_type": "code",
        "colab": {
          "base_uri": "https://localhost:8080/",
          "height": 597
        },
        "outputId": "9b491fe0-4125-49d2-c118-a50a35710fd7"
      },
      "cell_type": "code",
      "source": [
        "url = reconstructions_single_layer(children(FV.model)[6][0].conv1,\n",
        "                                   'Layer 3 Block 1 Conv1',list(range(6,12)),\n",
        "                                   n_cols=3,save_fig=True,album_hash='OhQ94rP')\n",
        "display(HTML(f\"<img src={url} />\"))"
      ],
      "execution_count": 24,
      "outputs": [
        {
          "output_type": "display_data",
          "data": {
            "text/html": [
              "<img src=https://i.imgur.com/1jqeJRh.png />"
            ],
            "text/plain": [
              "<IPython.core.display.HTML object>"
            ]
          },
          "metadata": {
            "tags": []
          }
        }
      ]
    },
    {
      "metadata": {
        "id": "FVYVlmsHRhDF",
        "colab_type": "code",
        "colab": {
          "base_uri": "https://localhost:8080/",
          "height": 597
        },
        "outputId": "3b69e9c0-0427-4768-f832-7c1e8c40f61b"
      },
      "cell_type": "code",
      "source": [
        "url = reconstructions_single_layer(children(FV.model)[6][1].conv1,'Layer 3 Block 2 Conv1',\n",
        "                                   list(range(6,12)),n_cols=3,\n",
        "                                   save_fig=True,album_hash='OhQ94rP')\n",
        "display(HTML(f\"<img src={url} />\"))"
      ],
      "execution_count": 25,
      "outputs": [
        {
          "output_type": "display_data",
          "data": {
            "text/html": [
              "<img src=https://i.imgur.com/f14EUuc.png />"
            ],
            "text/plain": [
              "<IPython.core.display.HTML object>"
            ]
          },
          "metadata": {
            "tags": []
          }
        }
      ]
    },
    {
      "metadata": {
        "id": "p-0L5aosRhG6",
        "colab_type": "code",
        "colab": {
          "base_uri": "https://localhost:8080/",
          "height": 597
        },
        "outputId": "1d0bd4d9-6eb4-429a-bf25-b28315e6fa57"
      },
      "cell_type": "code",
      "source": [
        "url = reconstructions_single_layer(children(FV.model)[6][2].conv1,'Layer 3 Block 3 Conv1',\n",
        "                                   list(range(6,12)),n_cols=3,\n",
        "                                   save_fig=True,album_hash='OhQ94rP')\n",
        "display(HTML(f\"<img src={url} />\"))"
      ],
      "execution_count": 26,
      "outputs": [
        {
          "output_type": "display_data",
          "data": {
            "text/html": [
              "<img src=https://i.imgur.com/B26JdLp.png />"
            ],
            "text/plain": [
              "<IPython.core.display.HTML object>"
            ]
          },
          "metadata": {
            "tags": []
          }
        }
      ]
    },
    {
      "metadata": {
        "id": "taTkl_kZRhK_",
        "colab_type": "code",
        "colab": {
          "base_uri": "https://localhost:8080/",
          "height": 597
        },
        "outputId": "ae990783-da02-4133-cb1c-406e311e647d"
      },
      "cell_type": "code",
      "source": [
        "url = reconstructions_single_layer(children(FV.model)[6][3].conv1,'Layer 3 Block 4 Conv1',\n",
        "                                   list(range(6,12)),n_cols=3,\n",
        "                                   save_fig=True,album_hash='OhQ94rP')\n",
        "display(HTML(f\"<img src={url} />\"))"
      ],
      "execution_count": 27,
      "outputs": [
        {
          "output_type": "display_data",
          "data": {
            "text/html": [
              "<img src=https://i.imgur.com/rHpOiDY.png />"
            ],
            "text/plain": [
              "<IPython.core.display.HTML object>"
            ]
          },
          "metadata": {
            "tags": []
          }
        }
      ]
    },
    {
      "metadata": {
        "id": "MLWtXSdeRhaH",
        "colab_type": "code",
        "colab": {
          "base_uri": "https://localhost:8080/",
          "height": 597
        },
        "outputId": "9075d228-a1b5-4103-a233-f131f6e037d1"
      },
      "cell_type": "code",
      "source": [
        "url = reconstructions_single_layer(children(FV.model)[6][4].conv1,'Layer 3 Block 5 Conv1',\n",
        "                                   list(range(6,12)),n_cols=3,\n",
        "                                   save_fig=True,album_hash='OhQ94rP')\n",
        "display(HTML(f\"<img src={url} />\"))"
      ],
      "execution_count": 28,
      "outputs": [
        {
          "output_type": "display_data",
          "data": {
            "text/html": [
              "<img src=https://i.imgur.com/fzlym8q.png />"
            ],
            "text/plain": [
              "<IPython.core.display.HTML object>"
            ]
          },
          "metadata": {
            "tags": []
          }
        }
      ]
    },
    {
      "metadata": {
        "id": "u5EclQ3eRhXi",
        "colab_type": "code",
        "colab": {
          "base_uri": "https://localhost:8080/",
          "height": 597
        },
        "outputId": "61f1a33b-3797-4d51-a763-fd93018091f5"
      },
      "cell_type": "code",
      "source": [
        "url = reconstructions_single_layer(children(FV.model)[6][5].conv1,'Layer 3 Block 6 Conv1',\n",
        "                                   list(range(6,12)),n_cols=3,\n",
        "                                   save_fig=True,album_hash='OhQ94rP')\n",
        "display(HTML(f\"<img src={url} />\"))"
      ],
      "execution_count": 29,
      "outputs": [
        {
          "output_type": "display_data",
          "data": {
            "text/html": [
              "<img src=https://i.imgur.com/TQYC6Be.png />"
            ],
            "text/plain": [
              "<IPython.core.display.HTML object>"
            ]
          },
          "metadata": {
            "tags": []
          }
        }
      ]
    },
    {
      "metadata": {
        "id": "UAO7e1llRhUu",
        "colab_type": "code",
        "colab": {
          "base_uri": "https://localhost:8080/",
          "height": 597
        },
        "outputId": "06644c70-b734-4373-fe68-50fa1052f5d2"
      },
      "cell_type": "code",
      "source": [
        "url = reconstructions_single_layer(children(FV.model)[7][0].conv1,'Layer 4 Block 1 Conv1',\n",
        "                                   list(range(6,12)),n_cols=3,\n",
        "                                   save_fig=True,album_hash='OhQ94rP')\n",
        "display(HTML(f\"<img src={url} />\"))"
      ],
      "execution_count": 30,
      "outputs": [
        {
          "output_type": "display_data",
          "data": {
            "text/html": [
              "<img src=https://i.imgur.com/UWmPEfL.png />"
            ],
            "text/plain": [
              "<IPython.core.display.HTML object>"
            ]
          },
          "metadata": {
            "tags": []
          }
        }
      ]
    },
    {
      "metadata": {
        "id": "GvQF0E9zRhRZ",
        "colab_type": "code",
        "colab": {
          "base_uri": "https://localhost:8080/",
          "height": 597
        },
        "outputId": "5c77c133-acaf-46a4-8696-d67e3d9b03d5"
      },
      "cell_type": "code",
      "source": [
        "url = reconstructions_single_layer(children(FV.model)[7][1].conv1,'Layer 4 Block 2 Conv1',\n",
        "                                   list(range(6,12)),n_cols=3,\n",
        "                                   save_fig=True,album_hash='OhQ94rP')\n",
        "display(HTML(f\"<img src={url} />\"))"
      ],
      "execution_count": 31,
      "outputs": [
        {
          "output_type": "display_data",
          "data": {
            "text/html": [
              "<img src=https://i.imgur.com/CeRxIhr.png />"
            ],
            "text/plain": [
              "<IPython.core.display.HTML object>"
            ]
          },
          "metadata": {
            "tags": []
          }
        }
      ]
    },
    {
      "metadata": {
        "id": "6nQAU6_PRhOy",
        "colab_type": "code",
        "colab": {
          "base_uri": "https://localhost:8080/",
          "height": 597
        },
        "outputId": "7c4ea959-4313-417a-b5a6-88d621668d57"
      },
      "cell_type": "code",
      "source": [
        "url = reconstructions_single_layer(children(FV.model)[7][2].conv1,'Layer 4 Block 3 Conv1',\n",
        "                                   list(range(6,12)),n_cols=3,\n",
        "                                   save_fig=True,album_hash='OhQ94rP')\n",
        "display(HTML(f\"<img src={url} />\"))"
      ],
      "execution_count": 32,
      "outputs": [
        {
          "output_type": "display_data",
          "data": {
            "text/html": [
              "<img src=https://i.imgur.com/2LOeNxi.png />"
            ],
            "text/plain": [
              "<IPython.core.display.HTML object>"
            ]
          },
          "metadata": {
            "tags": []
          }
        }
      ]
    },
    {
      "metadata": {
        "id": "btjfCyaZSxUJ",
        "colab_type": "text"
      },
      "cell_type": "markdown",
      "source": [
        "More images can be seen [here](https://imgur.com/a/OhQ94rP)."
      ]
    }
  ]
}