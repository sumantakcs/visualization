{
  "nbformat": 4,
  "nbformat_minor": 0,
  "metadata": {
    "colab": {
      "name": "feat_viz_vgg16.ipynb",
      "version": "0.3.2",
      "provenance": [],
      "collapsed_sections": []
    },
    "kernelspec": {
      "name": "python3",
      "display_name": "Python 3"
    },
    "accelerator": "GPU"
  },
  "cells": [
    {
      "metadata": {
        "id": "I9VDrPCrR1__",
        "colab_type": "text"
      },
      "cell_type": "markdown",
      "source": [
        "# Visualizing inputs that maximally activate feature maps of a convnet\n",
        "\n",
        "## Network used: VGG16"
      ]
    },
    {
      "metadata": {
        "id": "39Ch5JJ-lJSI",
        "colab_type": "code",
        "colab": {}
      },
      "cell_type": "code",
      "source": [
        "%matplotlib inline\n",
        "%reload_ext autoreload\n",
        "%autoreload 2"
      ],
      "execution_count": 0,
      "outputs": []
    },
    {
      "metadata": {
        "id": "M8ylYU0BO9QP",
        "colab_type": "code",
        "colab": {}
      },
      "cell_type": "code",
      "source": [
        "!pip install -q fastai==0.7.0 torchtext==0.2.3"
      ],
      "execution_count": 0,
      "outputs": []
    },
    {
      "metadata": {
        "id": "Q1w2HnvvlP2z",
        "colab_type": "code",
        "colab": {}
      },
      "cell_type": "code",
      "source": [
        "from fastai.conv_learner import *\n",
        "from cv2 import resize\n",
        "import matplotlib.gridspec as gridspec\n",
        "from math import ceil\n",
        "from IPython.display import HTML\n",
        "from pdb import set_trace\n",
        "# from scipy import ndimage"
      ],
      "execution_count": 0,
      "outputs": []
    },
    {
      "metadata": {
        "colab_type": "code",
        "id": "UQ2d_EVYBODD",
        "colab": {}
      },
      "cell_type": "code",
      "source": [
        "class SaveFeatures():\n",
        "    def __init__(self, module):\n",
        "        self.hook = module.register_forward_hook(self.hook_fn)\n",
        "    def hook_fn(self, module, input, output):\n",
        "        self.features = output\n",
        "    def close(self):\n",
        "        self.hook.remove()"
      ],
      "execution_count": 0,
      "outputs": []
    },
    {
      "metadata": {
        "id": "OFxPmIboP5c_",
        "colab_type": "code",
        "colab": {}
      },
      "cell_type": "code",
      "source": [
        "class FilterVisualizer():\n",
        "    def __init__(self):\n",
        "        self.model = vgg16(True).cuda().eval()\n",
        "        set_trainable(self.model, False)\n",
        "\n",
        "    def visualize(self, sz, layer, filter, upscaling_steps=12, upscaling_factor=1.2, lr=0.1, opt_steps=20, blur=None, save=False, print_losses=False):\n",
        "\n",
        "        img = (np.random.random((sz, sz, 3)) * 20 + 128.)/255.\n",
        "#         img = np.random.uniform(0, 1, size=(sz, sz, 3)).astype(np.float32)\n",
        "#         median_filter_size = 4 if sz < 100 else 8\n",
        "#         img = scipy.ndimage.filters.median_filter(img, [median_filter_size,median_filter_size,1])\n",
        "    \n",
        "        layer = children(self.model)[layer]\n",
        "        activations = SaveFeatures(layer)  # register hook\n",
        "\n",
        "        for i in range(upscaling_steps):  # scale the image up upscaling_steps times\n",
        "            train_tfms, val_tfms = tfms_from_model(vgg16, sz)\n",
        "            img_var = V(val_tfms(img)[None], requires_grad=True)  # convert image to Variable that requires grad\n",
        "            optimizer = torch.optim.Adam([img_var], lr=lr, weight_decay=1e-6)\n",
        "            if i > upscaling_steps/2:\n",
        "                opt_steps_ = int(opt_steps*1.3)\n",
        "            else:\n",
        "                opt_steps_ = opt_steps\n",
        "            for n in range(opt_steps_):  # optimize pixel values for opt_steps times\n",
        "                optimizer.zero_grad()\n",
        "                self.model(img_var)\n",
        "                loss = -activations.features[0, filter].mean()\n",
        "                if print_losses:\n",
        "                    if i%3==0 and n%5==0:\n",
        "                        print(f'{i} - {n} - {float(loss)}')\n",
        "                loss.backward()\n",
        "                optimizer.step()\n",
        "            img = val_tfms.denorm(np.rollaxis(to_np(img_var.data),1,4))[0]\n",
        "            self.output = img\n",
        "            sz = int(upscaling_factor * sz)  # calculate new image size\n",
        "            img = cv2.resize(img, (sz, sz), interpolation = cv2.INTER_CUBIC)  # scale image up\n",
        "            if blur is not None: img = cv2.blur(img,(blur,blur))  # blur image to reduce high frequency patterns\n",
        "        if save:\n",
        "            self.save(layer, filter)\n",
        "        activations.close()\n",
        "        return np.clip(self.output, 0, 1)\n",
        "    \n",
        "    def most_activated(self, image, layer, limit_top=None):\n",
        "\n",
        "        train_tfms, val_tfms = tfms_from_model(vgg16, 224)\n",
        "        transformed = val_tfms(image)\n",
        "#         set_trace()\n",
        "        layer = children(self.model)[layer]\n",
        "        activations = SaveFeatures(layer)  # register hook\n",
        "        self.model(V(transformed)[None]);\n",
        "        #         set_trace()\n",
        "        print(activations.features.shape)\n",
        "        #         set_trace()\n",
        "        mean_act = [activations.features[0,i].mean().data.cpu().numpy()[0] for i in range(activations.features.shape[1])]\n",
        "        activations.close()\n",
        "        return mean_act\n",
        "        \n",
        "    def get_transformed_img(self,img,sz):\n",
        "        train_tfms, val_tfms = tfms_from_model(resnet34, sz)\n",
        "        return val_tfms.denorm(np.rollaxis(to_np(val_tfms(img)[None]),1,4))[0]"
      ],
      "execution_count": 0,
      "outputs": []
    },
    {
      "metadata": {
        "id": "iuvrfyNyCbAZ",
        "colab_type": "code",
        "colab": {
          "base_uri": "https://localhost:8080/",
          "height": 50
        },
        "outputId": "d2b15bb7-512b-4fe7-cd00-e32b28a728b6"
      },
      "cell_type": "code",
      "source": [
        "FV = FilterVisualizer()"
      ],
      "execution_count": 21,
      "outputs": [
        {
          "output_type": "stream",
          "text": [
            "Downloading: \"https://download.pytorch.org/models/vgg16_bn-6c64b313.pth\" to /root/.torch/models/vgg16_bn-6c64b313.pth\n",
            "100%|██████████| 553507836/553507836 [00:05<00:00, 101382015.63it/s]\n"
          ],
          "name": "stderr"
        }
      ]
    },
    {
      "metadata": {
        "id": "p2y6QAAHTbZQ",
        "colab_type": "code",
        "outputId": "21c31455-b987-461c-9f39-28cf589da8f1",
        "colab": {
          "base_uri": "https://localhost:8080/",
          "height": 790
        }
      },
      "cell_type": "code",
      "source": [
        "FV.model"
      ],
      "execution_count": 0,
      "outputs": [
        {
          "output_type": "execute_result",
          "data": {
            "text/plain": [
              "Sequential(\n",
              "  (0): Conv2d(3, 64, kernel_size=(3, 3), stride=(1, 1), padding=(1, 1))\n",
              "  (1): BatchNorm2d(64, eps=1e-05, momentum=0.1, affine=True)\n",
              "  (2): ReLU(inplace)\n",
              "  (3): Conv2d(64, 64, kernel_size=(3, 3), stride=(1, 1), padding=(1, 1))\n",
              "  (4): BatchNorm2d(64, eps=1e-05, momentum=0.1, affine=True)\n",
              "  (5): ReLU(inplace)\n",
              "  (6): MaxPool2d(kernel_size=(2, 2), stride=(2, 2), dilation=(1, 1), ceil_mode=False)\n",
              "  (7): Conv2d(64, 128, kernel_size=(3, 3), stride=(1, 1), padding=(1, 1))\n",
              "  (8): BatchNorm2d(128, eps=1e-05, momentum=0.1, affine=True)\n",
              "  (9): ReLU(inplace)\n",
              "  (10): Conv2d(128, 128, kernel_size=(3, 3), stride=(1, 1), padding=(1, 1))\n",
              "  (11): BatchNorm2d(128, eps=1e-05, momentum=0.1, affine=True)\n",
              "  (12): ReLU(inplace)\n",
              "  (13): MaxPool2d(kernel_size=(2, 2), stride=(2, 2), dilation=(1, 1), ceil_mode=False)\n",
              "  (14): Conv2d(128, 256, kernel_size=(3, 3), stride=(1, 1), padding=(1, 1))\n",
              "  (15): BatchNorm2d(256, eps=1e-05, momentum=0.1, affine=True)\n",
              "  (16): ReLU(inplace)\n",
              "  (17): Conv2d(256, 256, kernel_size=(3, 3), stride=(1, 1), padding=(1, 1))\n",
              "  (18): BatchNorm2d(256, eps=1e-05, momentum=0.1, affine=True)\n",
              "  (19): ReLU(inplace)\n",
              "  (20): Conv2d(256, 256, kernel_size=(3, 3), stride=(1, 1), padding=(1, 1))\n",
              "  (21): BatchNorm2d(256, eps=1e-05, momentum=0.1, affine=True)\n",
              "  (22): ReLU(inplace)\n",
              "  (23): MaxPool2d(kernel_size=(2, 2), stride=(2, 2), dilation=(1, 1), ceil_mode=False)\n",
              "  (24): Conv2d(256, 512, kernel_size=(3, 3), stride=(1, 1), padding=(1, 1))\n",
              "  (25): BatchNorm2d(512, eps=1e-05, momentum=0.1, affine=True)\n",
              "  (26): ReLU(inplace)\n",
              "  (27): Conv2d(512, 512, kernel_size=(3, 3), stride=(1, 1), padding=(1, 1))\n",
              "  (28): BatchNorm2d(512, eps=1e-05, momentum=0.1, affine=True)\n",
              "  (29): ReLU(inplace)\n",
              "  (30): Conv2d(512, 512, kernel_size=(3, 3), stride=(1, 1), padding=(1, 1))\n",
              "  (31): BatchNorm2d(512, eps=1e-05, momentum=0.1, affine=True)\n",
              "  (32): ReLU(inplace)\n",
              "  (33): MaxPool2d(kernel_size=(2, 2), stride=(2, 2), dilation=(1, 1), ceil_mode=False)\n",
              "  (34): Conv2d(512, 512, kernel_size=(3, 3), stride=(1, 1), padding=(1, 1))\n",
              "  (35): BatchNorm2d(512, eps=1e-05, momentum=0.1, affine=True)\n",
              "  (36): ReLU(inplace)\n",
              "  (37): Conv2d(512, 512, kernel_size=(3, 3), stride=(1, 1), padding=(1, 1))\n",
              "  (38): BatchNorm2d(512, eps=1e-05, momentum=0.1, affine=True)\n",
              "  (39): ReLU(inplace)\n",
              "  (40): Conv2d(512, 512, kernel_size=(3, 3), stride=(1, 1), padding=(1, 1))\n",
              "  (41): BatchNorm2d(512, eps=1e-05, momentum=0.1, affine=True)\n",
              "  (42): ReLU(inplace)\n",
              "  (43): MaxPool2d(kernel_size=(2, 2), stride=(2, 2), dilation=(1, 1), ceil_mode=False)\n",
              ")"
            ]
          },
          "metadata": {
            "tags": []
          },
          "execution_count": 89
        }
      ]
    },
    {
      "metadata": {
        "id": "3ySC7IQnhbIh",
        "colab_type": "code",
        "colab": {}
      },
      "cell_type": "code",
      "source": [
        "import requests\n",
        "import base64\n",
        "import pprint"
      ],
      "execution_count": 0,
      "outputs": []
    },
    {
      "metadata": {
        "id": "uxsI1NBhDTg-",
        "colab_type": "code",
        "colab": {}
      },
      "cell_type": "code",
      "source": [
        "with open('img_at.txt') as f:\n",
        "    ACCESS_TOKEN = f.read().strip()"
      ],
      "execution_count": 0,
      "outputs": []
    },
    {
      "metadata": {
        "id": "f25YxvxEhfn2",
        "colab_type": "code",
        "colab": {}
      },
      "cell_type": "code",
      "source": [
        "def upload_to_imgur(file_name,post_title,album_hash):\n",
        "    url = 'https://api.imgur.com/3/image'\n",
        "    fh = open(file_name, 'rb');\n",
        "    payload = {'image': base64.b64encode(fh.read()),\n",
        "              'album':album_hash,\n",
        "              'type':'base64',\n",
        "              'title':post_title,\n",
        "              'looping':False\n",
        "              }\n",
        "    files = {}\n",
        "    headers = {\n",
        "      'Authorization': f'Bearer {ACCESS_TOKEN}'\n",
        "    }\n",
        "    response = requests.request('POST', url, headers = headers, data = payload, files = files, allow_redirects=False)\n",
        "#     print(response.json()['data']['link'])\n",
        "    return response.json()['data']['link']"
      ],
      "execution_count": 0,
      "outputs": []
    },
    {
      "metadata": {
        "id": "IuIGDfKgQS1W",
        "colab_type": "code",
        "colab": {}
      },
      "cell_type": "code",
      "source": [
        "def plot_reconstructions(imgs,layer_idx,filters,n_cols=3, cell_size=4, save_fig=False,album_hash=None):\n",
        "    n_rows = ceil((len(imgs))/n_cols)\n",
        "\n",
        "    fig,axes = plt.subplots(n_rows,n_cols, figsize=(cell_size*n_cols,cell_size*n_rows))\n",
        "          \n",
        "    for i,ax in enumerate(axes.flat):\n",
        "        ax.grid(False)\n",
        "        ax.get_xaxis().set_visible(False)\n",
        "        ax.get_yaxis().set_visible(False)\n",
        "\n",
        "        if i>=len(filters):\n",
        "            pass\n",
        "\n",
        "        ax.set_title(f'fmap {filters[i]}')\n",
        "\n",
        "        ax.imshow(imgs[i])\n",
        "    fig.suptitle(f'VGG16 Layer: {layer_idx} : {children(FV.model)[layer_idx]}', fontsize=\"x-large\",y=1.0)\n",
        "    plt.tight_layout()\n",
        "    plt.subplots_adjust(top=0.9)\n",
        "    if save_fig:\n",
        "        plt.savefig(f'vgg16_layer_{layer_idx}_fmaps_{\"_\".join([str(f) for f in filters])}.png')\n",
        "        link = upload_to_imgur(f'vgg16_layer_{layer_idx}_fmaps_{\"_\".join([str(f) for f in filters])}.png',\n",
        "                        f'vgg16_layer_{layer_idx}_fmaps_{\"_\".join([str(f) for f in filters])}',album_hash)\n",
        "        plt.close()\n",
        "        return link\n",
        "    else:\n",
        "        plt.show()\n",
        "        return None\n",
        "    "
      ],
      "execution_count": 0,
      "outputs": []
    },
    {
      "metadata": {
        "id": "Zf0UXoS6QoJZ",
        "colab_type": "code",
        "colab": {}
      },
      "cell_type": "code",
      "source": [
        "def reconstructions(layer_idx, filters,\n",
        "                    init_size=56, upscaling_steps=12, \n",
        "                    upscaling_factor=1.2, \n",
        "                    opt_steps=20, blur=5,\n",
        "                    lr=1e-1,print_losses=False,\n",
        "                    n_cols=3, cell_size=4,\n",
        "                    save_fig=False,\n",
        "                    album_hash=None):\n",
        "    \n",
        "    if save_fig:\n",
        "        assert not album_hash is None\n",
        "    imgs = []\n",
        "    for filter in filters:\n",
        "        imgs.append(FV.visualize(init_size,layer_idx, filter, \n",
        "                                 upscaling_steps=upscaling_steps, \n",
        "                                 upscaling_factor=upscaling_factor, \n",
        "                                 opt_steps=opt_steps, blur=blur,\n",
        "                                 lr=lr,print_losses=print_losses))\n",
        "        \n",
        "    return plot_reconstructions(imgs,layer_idx,filters,\n",
        "                         n_cols=n_cols,cell_size=cell_size,\n",
        "                         save_fig=save_fig,album_hash=album_hash)"
      ],
      "execution_count": 0,
      "outputs": []
    },
    {
      "metadata": {
        "id": "wP83e_YlkNlH",
        "colab_type": "code",
        "colab": {}
      },
      "cell_type": "code",
      "source": [
        "# l_idxs = [40]\n",
        "# dd = 0\n",
        "# for l in l_idxs:\n",
        "#     start = 198\n",
        "#     n_items_per_plot = 6\n",
        "#     end =400\n",
        "#     count = start\n",
        "#     while count+n_items_per_plot<end:\n",
        "#         dd+=1\n",
        "#         print(f'reconstructions({l},list(range({count},{count+n_items_per_plot})),save_fig=True)')\n",
        "#         reconstructions(l,list(range(count,count+n_items_per_plot)),save_fig=True)\n",
        "#         count+=n_items_per_plot\n",
        "# print(dd)"
      ],
      "execution_count": 0,
      "outputs": []
    },
    {
      "metadata": {
        "id": "KL3HPZM3Af66",
        "colab_type": "code",
        "colab": {
          "base_uri": "https://localhost:8080/",
          "height": 309
        },
        "outputId": "cc1cd30e-ab4f-484c-d0a0-dc79d329d0aa"
      },
      "cell_type": "code",
      "source": [
        "url = reconstructions(layer_idx=7,filters=list(range(0,3)),\n",
        "                save_fig=True,album_hash=\"A5KpYOz\")\n",
        "display(HTML(f\"<img src={url} />\"))"
      ],
      "execution_count": 58,
      "outputs": [
        {
          "output_type": "display_data",
          "data": {
            "text/html": [
              "<img src=https://i.imgur.com/oc9zAs6.png />"
            ],
            "text/plain": [
              "<IPython.core.display.HTML object>"
            ]
          },
          "metadata": {
            "tags": []
          }
        }
      ]
    },
    {
      "metadata": {
        "id": "5sOi0cVKBKBX",
        "colab_type": "code",
        "colab": {
          "base_uri": "https://localhost:8080/",
          "height": 597
        },
        "outputId": "1150f526-e79b-4f86-9e41-3f52d7bfc2f9"
      },
      "cell_type": "code",
      "source": [
        "url = reconstructions(layer_idx=10,filters=list(range(24,30)),\n",
        "                save_fig=True,album_hash=\"A5KpYOz\")\n",
        "display(HTML(f\"<img src={url} />\"))"
      ],
      "execution_count": 60,
      "outputs": [
        {
          "output_type": "display_data",
          "data": {
            "text/html": [
              "<img src=https://i.imgur.com/3w9iBZE.png />"
            ],
            "text/plain": [
              "<IPython.core.display.HTML object>"
            ]
          },
          "metadata": {
            "tags": []
          }
        }
      ]
    },
    {
      "metadata": {
        "id": "hmLeKVy1BhQO",
        "colab_type": "code",
        "colab": {
          "base_uri": "https://localhost:8080/",
          "height": 597
        },
        "outputId": "2aa38db8-1647-409e-c878-6553b8b42b3d"
      },
      "cell_type": "code",
      "source": [
        "url = reconstructions(layer_idx=14,filters=list(range(0,6)),\n",
        "                save_fig=True,album_hash=\"A5KpYOz\")\n",
        "display(HTML(f\"<img src={url} />\"))"
      ],
      "execution_count": 62,
      "outputs": [
        {
          "output_type": "display_data",
          "data": {
            "text/html": [
              "<img src=https://i.imgur.com/ugFKCpd.png />"
            ],
            "text/plain": [
              "<IPython.core.display.HTML object>"
            ]
          },
          "metadata": {
            "tags": []
          }
        }
      ]
    },
    {
      "metadata": {
        "id": "acRza-m7Btrn",
        "colab_type": "code",
        "colab": {
          "base_uri": "https://localhost:8080/",
          "height": 597
        },
        "outputId": "1d6142f3-5140-4a55-be86-993d01b5347c"
      },
      "cell_type": "code",
      "source": [
        "url = reconstructions(layer_idx=14,filters=list(range(30,36)),\n",
        "                save_fig=True,album_hash=\"A5KpYOz\")\n",
        "display(HTML(f\"<img src={url} />\"))"
      ],
      "execution_count": 64,
      "outputs": [
        {
          "output_type": "display_data",
          "data": {
            "text/html": [
              "<img src=https://i.imgur.com/Y6e1bHS.png />"
            ],
            "text/plain": [
              "<IPython.core.display.HTML object>"
            ]
          },
          "metadata": {
            "tags": []
          }
        }
      ]
    },
    {
      "metadata": {
        "id": "0gmUCPFhB7gg",
        "colab_type": "code",
        "colab": {
          "base_uri": "https://localhost:8080/",
          "height": 597
        },
        "outputId": "bdb4f4ca-8c0c-4a2b-e884-524bda2c8f7d"
      },
      "cell_type": "code",
      "source": [
        "url = reconstructions(layer_idx=24,filters=list(range(66,72)),\n",
        "                save_fig=True,album_hash=\"A5KpYOz\")\n",
        "display(HTML(f\"<img src={url} />\"))"
      ],
      "execution_count": 66,
      "outputs": [
        {
          "output_type": "display_data",
          "data": {
            "text/html": [
              "<img src=https://i.imgur.com/I22qJNQ.png />"
            ],
            "text/plain": [
              "<IPython.core.display.HTML object>"
            ]
          },
          "metadata": {
            "tags": []
          }
        }
      ]
    },
    {
      "metadata": {
        "id": "UQ8RrZ1rCE2k",
        "colab_type": "code",
        "colab": {
          "base_uri": "https://localhost:8080/",
          "height": 597
        },
        "outputId": "c0e15a10-1568-46de-8508-e196150007c7"
      },
      "cell_type": "code",
      "source": [
        "url = reconstructions(layer_idx=24,filters=list(range(84,90)),\n",
        "                save_fig=True,album_hash=\"A5KpYOz\")\n",
        "display(HTML(f\"<img src={url} />\"))"
      ],
      "execution_count": 68,
      "outputs": [
        {
          "output_type": "display_data",
          "data": {
            "text/html": [
              "<img src=https://i.imgur.com/p9v1kEv.png />"
            ],
            "text/plain": [
              "<IPython.core.display.HTML object>"
            ]
          },
          "metadata": {
            "tags": []
          }
        }
      ]
    },
    {
      "metadata": {
        "id": "0oRrqZXzCYHq",
        "colab_type": "code",
        "colab": {
          "base_uri": "https://localhost:8080/",
          "height": 597
        },
        "outputId": "aba168c6-f1ae-4615-d233-dcb3a9a4ae6d"
      },
      "cell_type": "code",
      "source": [
        "url = reconstructions(layer_idx=24,filters=list(range(204,210)),\n",
        "                save_fig=True,album_hash=\"SsbtjRZ\")\n",
        "display(HTML(f\"<img src={url} />\"))"
      ],
      "execution_count": 70,
      "outputs": [
        {
          "output_type": "display_data",
          "data": {
            "text/html": [
              "<img src=https://i.imgur.com/0OVVxg4.png />"
            ],
            "text/plain": [
              "<IPython.core.display.HTML object>"
            ]
          },
          "metadata": {
            "tags": []
          }
        }
      ]
    },
    {
      "metadata": {
        "id": "Qmo-Ieq-CeOP",
        "colab_type": "text"
      },
      "cell_type": "markdown",
      "source": [
        "More images from earlier layers can be found [here](https://imgur.com/a/A5KpYOz)."
      ]
    },
    {
      "metadata": {
        "id": "SszQ6oD9_eVy",
        "colab_type": "code",
        "colab": {
          "base_uri": "https://localhost:8080/",
          "height": 597
        },
        "outputId": "e58db3ad-7901-40a8-9ba9-29da876c7ae1"
      },
      "cell_type": "code",
      "source": [
        "url = reconstructions(layer_idx=40,filters=list(range(0,6)),\n",
        "                save_fig=True,album_hash=\"SsbtjRZ\")\n",
        "display(HTML(f\"<img src={url} />\"))"
      ],
      "execution_count": 49,
      "outputs": [
        {
          "output_type": "display_data",
          "data": {
            "text/html": [
              "<img src=https://i.imgur.com/rhQqExL.png />"
            ],
            "text/plain": [
              "<IPython.core.display.HTML object>"
            ]
          },
          "metadata": {
            "tags": []
          }
        }
      ]
    },
    {
      "metadata": {
        "id": "HQQnSD3a_uBx",
        "colab_type": "code",
        "colab": {
          "base_uri": "https://localhost:8080/",
          "height": 597
        },
        "outputId": "d14ceb76-ef3e-4754-a481-7d98608ce088"
      },
      "cell_type": "code",
      "source": [
        "url = reconstructions(layer_idx=40,filters=list(range(6,12)),\n",
        "                save_fig=True,album_hash=\"SsbtjRZ\")\n",
        "display(HTML(f\"<img src={url} />\"))"
      ],
      "execution_count": 51,
      "outputs": [
        {
          "output_type": "display_data",
          "data": {
            "text/html": [
              "<img src=https://i.imgur.com/g6wh734.png />"
            ],
            "text/plain": [
              "<IPython.core.display.HTML object>"
            ]
          },
          "metadata": {
            "tags": []
          }
        }
      ]
    },
    {
      "metadata": {
        "id": "AP25aT2pAAJl",
        "colab_type": "code",
        "colab": {
          "base_uri": "https://localhost:8080/",
          "height": 597
        },
        "outputId": "945bcae4-79bc-4d45-e7cc-8cfb28a34991"
      },
      "cell_type": "code",
      "source": [
        "url = reconstructions(layer_idx=40,filters=list(range(12,18)),\n",
        "                save_fig=True,album_hash=\"SsbtjRZ\")\n",
        "display(HTML(f\"<img src={url} />\"))"
      ],
      "execution_count": 55,
      "outputs": [
        {
          "output_type": "display_data",
          "data": {
            "text/html": [
              "<img src=https://i.imgur.com/aaHmix8.png />"
            ],
            "text/plain": [
              "<IPython.core.display.HTML object>"
            ]
          },
          "metadata": {
            "tags": []
          }
        }
      ]
    },
    {
      "metadata": {
        "id": "FqrAw5YvAPEr",
        "colab_type": "text"
      },
      "cell_type": "markdown",
      "source": [
        "Results for all feature maps from layer `40` can be found [here](https://imgur.com/a/SsbtjRZ)."
      ]
    }
  ]
}